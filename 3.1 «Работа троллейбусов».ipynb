{
 "cells": [
  {
   "cell_type": "markdown",
   "metadata": {},
   "source": [
    "# Задание 1 «Работа троллейбусов»\n",
    "В «Могортранс» поступила жалоба от пассажиров на плохую работу транспорта на диспетчерской станции «Черемушки» в период с 20:00 до 21:00. \n",
    "Суть жалобы состоит в том, что троллейбусы ходят не по расписанию и их приходится ждать очень долго на остановках. \n",
    "На предприятии «Мосгортранс» существует система регистрации времени прибытия троллейбусов, а также подсчета количества прибывших пассажиров на этих троллейбусах. \n",
    "Данные с системы регистрации \tприведены в файле “Статистика по троллейбусам”. Руководство предприятия поручило вам разобраться в ситуации и выяснить, чем же вызвана жалоба, а также провести развернутый анализ времени \n",
    "движения транспорта и пассажиропотока.\n",
    "Требуется:\n",
    "1)найти причину жалобы, \n",
    "2) выяснить характеристики, которыми характеризуется движение транспорта и пассажиропоток (числовые, графические, как по отдельным маршрутам троллейбусов, так и в совокупности) "
   ]
  },
  {
   "cell_type": "code",
   "execution_count": 1,
   "metadata": {},
   "outputs": [],
   "source": [
    "import pandas as pd\n",
    "from pandas import  to_datetime\n",
    "import matplotlib.pyplot as plt\n",
    "import numpy as np\n",
    "from matplotlib import rcParams\n",
    "import seaborn as sns\n",
    "%matplotlib inline"
   ]
  },
  {
   "cell_type": "code",
   "execution_count": 2,
   "metadata": {},
   "outputs": [
    {
     "name": "stdout",
     "output_type": "stream",
     "text": [
      "Число уникальных номеров троллейбусов - 3\n",
      "Это - [31 51 27]\n"
     ]
    }
   ],
   "source": [
    "df = pd.read_csv('Traffic.csv',encoding='cp1251')\n",
    "print( 'Число уникальных номеров троллейбусов -', len(df['Номер троллейбуса'].unique()))\n",
    "print('Это -', df['Номер троллейбуса'].unique())\n",
    "#df[df['Номер троллейбуса']==31]['Количество человек'].mean()"
   ]
  },
  {
   "cell_type": "markdown",
   "metadata": {},
   "source": [
    ">Исследуем три маршрута 31,51,27"
   ]
  },
  {
   "cell_type": "markdown",
   "metadata": {},
   "source": [
    ">А теперь посмотрим, сколько человек в среднем ожидают каждый из автобусов."
   ]
  },
  {
   "cell_type": "code",
   "execution_count": 3,
   "metadata": {},
   "outputs": [
    {
     "name": "stdout",
     "output_type": "stream",
     "text": [
      "Среднее число человек ожидающих номер автобуса 31 - 14.0\n",
      "Среднее число человек ожидающих номер автобуса 51 - 15.0\n",
      "Среднее число человек ожидающих номер автобуса 27 - 10.0\n"
     ]
    }
   ],
   "source": [
    "a = df['Номер троллейбуса'].unique()\n",
    "for i in range(len(a)):\n",
    "    print('Среднее число человек ожидающих номер автобуса', a[i],'-', df[df['Номер троллейбуса']==a[i]]['Количество человек'].mean())"
   ]
  },
  {
   "cell_type": "markdown",
   "metadata": {},
   "source": [
    "> 27 маршрут не самый популярный\n",
    "\n",
    "> 51 наиболее загруженный"
   ]
  },
  {
   "cell_type": "code",
   "execution_count": 4,
   "metadata": {},
   "outputs": [
    {
     "name": "stdout",
     "output_type": "stream",
     "text": [
      "Среднееквадратичный разброс количества человек ожидающих номер автобуса 31 - 5.39135109844\n",
      "Среднееквадратичный разброс количества человек ожидающих номер автобуса 51 - 4.89897948557\n",
      "Среднееквадратичный разброс количества человек ожидающих номер автобуса 27 - 5.03322295685\n"
     ]
    }
   ],
   "source": [
    "a = df['Номер троллейбуса'].unique()\n",
    "for i in range(len(a)):\n",
    "    print('Среднееквадратичный разброс количества человек ожидающих номер автобуса', a[i],'-', df[df['Номер троллейбуса']==a[i]]['Количество человек'].std())"
   ]
  },
  {
   "cell_type": "markdown",
   "metadata": {},
   "source": [
    ">Преобразуем переменную Время прибытия"
   ]
  },
  {
   "cell_type": "code",
   "execution_count": 5,
   "metadata": {},
   "outputs": [
    {
     "data": {
      "text/html": [
       "<div>\n",
       "<style scoped>\n",
       "    .dataframe tbody tr th:only-of-type {\n",
       "        vertical-align: middle;\n",
       "    }\n",
       "\n",
       "    .dataframe tbody tr th {\n",
       "        vertical-align: top;\n",
       "    }\n",
       "\n",
       "    .dataframe thead th {\n",
       "        text-align: right;\n",
       "    }\n",
       "</style>\n",
       "<table border=\"1\" class=\"dataframe\">\n",
       "  <thead>\n",
       "    <tr style=\"text-align: right;\">\n",
       "      <th></th>\n",
       "      <th>Номер троллейбуса</th>\n",
       "      <th>Время прибытия</th>\n",
       "      <th>Количество человек</th>\n",
       "      <th>TimeSplit</th>\n",
       "    </tr>\n",
       "  </thead>\n",
       "  <tbody>\n",
       "    <tr>\n",
       "      <th>0</th>\n",
       "      <td>31</td>\n",
       "      <td>20:00</td>\n",
       "      <td>24</td>\n",
       "      <td>0</td>\n",
       "    </tr>\n",
       "    <tr>\n",
       "      <th>1</th>\n",
       "      <td>51</td>\n",
       "      <td>20:00</td>\n",
       "      <td>20</td>\n",
       "      <td>0</td>\n",
       "    </tr>\n",
       "    <tr>\n",
       "      <th>2</th>\n",
       "      <td>27</td>\n",
       "      <td>20:01</td>\n",
       "      <td>20</td>\n",
       "      <td>1</td>\n",
       "    </tr>\n",
       "    <tr>\n",
       "      <th>3</th>\n",
       "      <td>31</td>\n",
       "      <td>20:03</td>\n",
       "      <td>23</td>\n",
       "      <td>3</td>\n",
       "    </tr>\n",
       "    <tr>\n",
       "      <th>4</th>\n",
       "      <td>27</td>\n",
       "      <td>20:05</td>\n",
       "      <td>15</td>\n",
       "      <td>5</td>\n",
       "    </tr>\n",
       "  </tbody>\n",
       "</table>\n",
       "</div>"
      ],
      "text/plain": [
       "   Номер троллейбуса Время прибытия  Количество человек  TimeSplit\n",
       "0                 31          20:00                  24          0\n",
       "1                 51          20:00                  20          0\n",
       "2                 27          20:01                  20          1\n",
       "3                 31          20:03                  23          3\n",
       "4                 27          20:05                  15          5"
      ]
     },
     "execution_count": 5,
     "metadata": {},
     "output_type": "execute_result"
    }
   ],
   "source": [
    "df['TimeSplit'] = df['Время прибытия'].str.split(':').apply(lambda x: int(x[0]) * 60 + int(x[1]))-1200\n",
    "df.head()"
   ]
  },
  {
   "cell_type": "code",
   "execution_count": 6,
   "metadata": {},
   "outputs": [],
   "source": [
    "c1 = (df['Номер троллейбуса']==31)\n",
    "c2 = (df['Номер троллейбуса']==51)\n",
    "c3 = (df['Номер троллейбуса']==27)"
   ]
  },
  {
   "cell_type": "markdown",
   "metadata": {},
   "source": [
    "## Рассмотрим наглядно пассажиропоток"
   ]
  },
  {
   "cell_type": "code",
   "execution_count": 7,
   "metadata": {},
   "outputs": [
    {
     "data": {
      "text/plain": [
       "Text(0.5,1,'Пассажиропоток')"
      ]
     },
     "execution_count": 7,
     "metadata": {},
     "output_type": "execute_result"
    },
    {
     "data": {
      "image/png": "[encoded data removed]",
      "text/plain": [
       "<matplotlib.figure.Figure at 0x2530eeff048>"
      ]
     },
     "metadata": {},
     "output_type": "display_data"
    }
   ],
   "source": [
    "sns.set()\n",
    "rcParams['figure.figsize'] = 12,8\n",
    "sns.set_style(\"whitegrid\")\n",
    "plt.plot(df[c1]['TimeSplit'], df[c1]['Количество человек'])\n",
    "plt.legend('A', ncol=2, loc='upper right')\n",
    "plt.plot(df[c2]['TimeSplit'], df[c2]['Количество человек'])\n",
    "plt.legend('B', ncol=2, loc='upper right')\n",
    "plt.plot(df[c3]['TimeSplit'], df[c3]['Количество человек'])\n",
    "plt.legend(['31', '27', '51'], ncol=2, loc='upper right',fontsize=20 )   \n",
    "plt.xlabel('TimeSplit', fontsize=20)\n",
    "plt.ylabel('Count',  fontsize=20)\n",
    "plt.title('Пассажиропоток', fontsize=25)"
   ]
  },
  {
   "cell_type": "markdown",
   "metadata": {},
   "source": [
    ">Видим что в целом динамика следующая, пиковая нагрузка на автобусы наблюдается в начале наблюдения в 20:00, ближе к 21:00 пассажиропоток падает. Однако троллейбус под номером 27 имеет большую нагрузку (**скачок**) и в период с 20:50 по 21:00"
   ]
  },
  {
   "cell_type": "markdown",
   "metadata": {},
   "source": [
    "## Рассмотрим распределение."
   ]
  },
  {
   "cell_type": "code",
   "execution_count": 9,
   "metadata": {
    "scrolled": false
   },
   "outputs": [
    {
     "data": {
      "text/plain": [
       "Text(0.5,1,'---')"
      ]
     },
     "execution_count": 9,
     "metadata": {},
     "output_type": "execute_result"
    },
    {
     "data": {
      "image/png": "[encoded data removed]",
      "text/plain": [
       "<matplotlib.figure.Figure at 0x25311012400>"
      ]
     },
     "metadata": {},
     "output_type": "display_data"
    }
   ],
   "source": [
    "fig = plt.figure(figsize=(6,4),)\n",
    "ax=sns.kdeplot(df.loc[(df['Номер троллейбуса'] == 31), 'TimeSplit'] , color='b', shade=True,label='31')\n",
    "ax=sns.kdeplot(df.loc[(df['Номер троллейбуса'] == 27), 'TimeSplit'] , color='r', shade=True,label='27')\n",
    "ax=sns.kdeplot(df.loc[(df['Номер троллейбуса'] == 51), 'TimeSplit'] , color='black', shade=True,label='51')\n",
    "plt.title('---')"
   ]
  },
  {
   "cell_type": "markdown",
   "metadata": {},
   "source": [
    ">ВИДИМ ЧТО РАСПРЕДЕЛЕНИЕ КОЛИЧЕСТВА ПАССАЖИРОВ ОЖИДАЮЩИХ ТРОЛЛЕЙБУС ДЛЯ **МАРШРУТА 27** СМЕЩЕНО ВПРАВО, ЗА СЧЕТ ТОГО, ЧТО С ПОСЛЕДНЮЮ ДЕСЯТИМИНУТКУ НАБЛЮДАЕТСЯ **УВЕЛИЧЕНИЕ** КОЛИЧЕСТВА ПАССАЖИРОВ ОЖИДАЮЩИХ АВТОБУС **МАРШРУТА 27**"
   ]
  },
  {
   "cell_type": "code",
   "execution_count": 10,
   "metadata": {},
   "outputs": [],
   "source": [
    "df_31 = df[c1]\n",
    "df_51 = df[c2]\n",
    "df_27 = df[c3]"
   ]
  },
  {
   "cell_type": "markdown",
   "metadata": {},
   "source": [
    ">Введем вспомогательную переменную, предположим, что время ожидания автобуса с момента последнего автобуса коррелирует с падением количества людей, ожидающих автобус.\n",
    "\n",
    ">**Проверим** корреляцию данных признаков.\n",
    "\n",
    ">Для этого создадим вспомогательный датасет и заджойним его. Добавив новые признаки **TimeDiff** - время ожидания с момента отъезда последнего автобуса. \n",
    "\n",
    ">**PeopleDiff** - процентное падение пассажиропотока с момента отъезда последнего автобуса."
   ]
  },
  {
   "cell_type": "code",
   "execution_count": 11,
   "metadata": {},
   "outputs": [
    {
     "name": "stdout",
     "output_type": "stream",
     "text": [
      "Корреляция между временем ожидания автобуса и количеством пассажиров для 31 маршрута = 0.0258646857832\n"
     ]
    }
   ],
   "source": [
    "df_31 = df_31.reset_index()\n",
    "df_31['New_ID'] = df_31.index+1\n",
    "df_31['New_ID_tmp'] = df_31['New_ID']+1\n",
    "a_31 = df_31[['Номер троллейбуса','TimeSplit','Количество человек','New_ID']].merge(df_31[['Номер троллейбуса','TimeSplit','Количество человек','New_ID_tmp']], left_on = 'New_ID', right_on='New_ID_tmp', how='left')\n",
    "a_31 = a_31.fillna(0)\n",
    "a_31['TimeDiff'] = a_31['TimeSplit_x'] - a_31['TimeSplit_y']\n",
    "a_31['PeopleDiff'] = (a_31['Количество человек_x'] - a_31['Количество человек_y'])/a_31['Количество человек_y']\n",
    "a_31 = a_31.iloc[1:]\n",
    "print('Корреляция между временем ожидания автобуса и количеством пассажиров для 31 маршрута =', a_31['TimeDiff'].corr(a_31['PeopleDiff']))"
   ]
  },
  {
   "cell_type": "markdown",
   "metadata": {},
   "source": [
    "> Явной корреляции нет"
   ]
  },
  {
   "cell_type": "code",
   "execution_count": 13,
   "metadata": {},
   "outputs": [
    {
     "name": "stdout",
     "output_type": "stream",
     "text": [
      "Корреляция между временем ожидания автобуса и количеством пассажиров для 27 маршрута = -0.0869011178712\n"
     ]
    }
   ],
   "source": [
    "df_27 = df_27.reset_index()\n",
    "df_27['New_ID'] = df_27.index+1\n",
    "df_27['New_ID_tmp'] = df_27['New_ID']+1\n",
    "a_27 = df_27[['Номер троллейбуса','TimeSplit','Количество человек','New_ID']].merge(df_27[['Номер троллейбуса','TimeSplit','Количество человек','New_ID_tmp']], left_on = 'New_ID', right_on='New_ID_tmp', how='left')\n",
    "a_27 = a_27.fillna(0)\n",
    "a_27['TimeDiff'] = a_27['TimeSplit_x'] - a_27['TimeSplit_y']\n",
    "a_27['PeopleDiff'] = (a_27['Количество человек_x'] - a_27['Количество человек_y'])/a_27['Количество человек_y']\n",
    "a_27 = a_27.iloc[1:]\n",
    "print('Корреляция между временем ожидания автобуса и количеством пассажиров для 27 маршрута =', a_27['TimeDiff'].corr(a_27['PeopleDiff']))"
   ]
  },
  {
   "cell_type": "markdown",
   "metadata": {},
   "source": [
    "> Явной корреляции нет"
   ]
  },
  {
   "cell_type": "code",
   "execution_count": 15,
   "metadata": {},
   "outputs": [
    {
     "name": "stdout",
     "output_type": "stream",
     "text": [
      "Корреляция между временем ожидания автобуса и количеством пассажиров для 51 маршрута = 0.903140293438\n"
     ]
    },
    {
     "data": {
      "text/html": [
       "<div>\n",
       "<style scoped>\n",
       "    .dataframe tbody tr th:only-of-type {\n",
       "        vertical-align: middle;\n",
       "    }\n",
       "\n",
       "    .dataframe tbody tr th {\n",
       "        vertical-align: top;\n",
       "    }\n",
       "\n",
       "    .dataframe thead th {\n",
       "        text-align: right;\n",
       "    }\n",
       "</style>\n",
       "<table border=\"1\" class=\"dataframe\">\n",
       "  <thead>\n",
       "    <tr style=\"text-align: right;\">\n",
       "      <th></th>\n",
       "      <th>Номер троллейбуса_x</th>\n",
       "      <th>TimeSplit_x</th>\n",
       "      <th>Количество человек_x</th>\n",
       "      <th>New_ID</th>\n",
       "      <th>Номер троллейбуса_y</th>\n",
       "      <th>TimeSplit_y</th>\n",
       "      <th>Количество человек_y</th>\n",
       "      <th>New_ID_tmp</th>\n",
       "      <th>TimeDiff</th>\n",
       "      <th>PeopleDiff</th>\n",
       "    </tr>\n",
       "  </thead>\n",
       "  <tbody>\n",
       "    <tr>\n",
       "      <th>1</th>\n",
       "      <td>51</td>\n",
       "      <td>7</td>\n",
       "      <td>19</td>\n",
       "      <td>2</td>\n",
       "      <td>51.0</td>\n",
       "      <td>0.0</td>\n",
       "      <td>20.0</td>\n",
       "      <td>2.0</td>\n",
       "      <td>7.0</td>\n",
       "      <td>-0.050000</td>\n",
       "    </tr>\n",
       "    <tr>\n",
       "      <th>2</th>\n",
       "      <td>51</td>\n",
       "      <td>14</td>\n",
       "      <td>18</td>\n",
       "      <td>3</td>\n",
       "      <td>51.0</td>\n",
       "      <td>7.0</td>\n",
       "      <td>19.0</td>\n",
       "      <td>3.0</td>\n",
       "      <td>7.0</td>\n",
       "      <td>-0.052632</td>\n",
       "    </tr>\n",
       "    <tr>\n",
       "      <th>3</th>\n",
       "      <td>51</td>\n",
       "      <td>22</td>\n",
       "      <td>15</td>\n",
       "      <td>4</td>\n",
       "      <td>51.0</td>\n",
       "      <td>14.0</td>\n",
       "      <td>18.0</td>\n",
       "      <td>4.0</td>\n",
       "      <td>8.0</td>\n",
       "      <td>-0.166667</td>\n",
       "    </tr>\n",
       "    <tr>\n",
       "      <th>4</th>\n",
       "      <td>51</td>\n",
       "      <td>28</td>\n",
       "      <td>16</td>\n",
       "      <td>5</td>\n",
       "      <td>51.0</td>\n",
       "      <td>22.0</td>\n",
       "      <td>15.0</td>\n",
       "      <td>5.0</td>\n",
       "      <td>6.0</td>\n",
       "      <td>0.066667</td>\n",
       "    </tr>\n",
       "    <tr>\n",
       "      <th>5</th>\n",
       "      <td>51</td>\n",
       "      <td>34</td>\n",
       "      <td>12</td>\n",
       "      <td>6</td>\n",
       "      <td>51.0</td>\n",
       "      <td>28.0</td>\n",
       "      <td>16.0</td>\n",
       "      <td>6.0</td>\n",
       "      <td>6.0</td>\n",
       "      <td>-0.250000</td>\n",
       "    </tr>\n",
       "    <tr>\n",
       "      <th>6</th>\n",
       "      <td>51</td>\n",
       "      <td>42</td>\n",
       "      <td>11</td>\n",
       "      <td>7</td>\n",
       "      <td>51.0</td>\n",
       "      <td>34.0</td>\n",
       "      <td>12.0</td>\n",
       "      <td>7.0</td>\n",
       "      <td>8.0</td>\n",
       "      <td>-0.083333</td>\n",
       "    </tr>\n",
       "    <tr>\n",
       "      <th>7</th>\n",
       "      <td>51</td>\n",
       "      <td>53</td>\n",
       "      <td>19</td>\n",
       "      <td>8</td>\n",
       "      <td>51.0</td>\n",
       "      <td>42.0</td>\n",
       "      <td>11.0</td>\n",
       "      <td>8.0</td>\n",
       "      <td>11.0</td>\n",
       "      <td>0.727273</td>\n",
       "    </tr>\n",
       "    <tr>\n",
       "      <th>8</th>\n",
       "      <td>51</td>\n",
       "      <td>56</td>\n",
       "      <td>5</td>\n",
       "      <td>9</td>\n",
       "      <td>51.0</td>\n",
       "      <td>53.0</td>\n",
       "      <td>19.0</td>\n",
       "      <td>9.0</td>\n",
       "      <td>3.0</td>\n",
       "      <td>-0.736842</td>\n",
       "    </tr>\n",
       "  </tbody>\n",
       "</table>\n",
       "</div>"
      ],
      "text/plain": [
       "   Номер троллейбуса_x  TimeSplit_x  Количество человек_x  New_ID  \\\n",
       "1                   51            7                    19       2   \n",
       "2                   51           14                    18       3   \n",
       "3                   51           22                    15       4   \n",
       "4                   51           28                    16       5   \n",
       "5                   51           34                    12       6   \n",
       "6                   51           42                    11       7   \n",
       "7                   51           53                    19       8   \n",
       "8                   51           56                     5       9   \n",
       "\n",
       "   Номер троллейбуса_y  TimeSplit_y  Количество человек_y  New_ID_tmp  \\\n",
       "1                 51.0          0.0                  20.0         2.0   \n",
       "2                 51.0          7.0                  19.0         3.0   \n",
       "3                 51.0         14.0                  18.0         4.0   \n",
       "4                 51.0         22.0                  15.0         5.0   \n",
       "5                 51.0         28.0                  16.0         6.0   \n",
       "6                 51.0         34.0                  12.0         7.0   \n",
       "7                 51.0         42.0                  11.0         8.0   \n",
       "8                 51.0         53.0                  19.0         9.0   \n",
       "\n",
       "   TimeDiff  PeopleDiff  \n",
       "1       7.0   -0.050000  \n",
       "2       7.0   -0.052632  \n",
       "3       8.0   -0.166667  \n",
       "4       6.0    0.066667  \n",
       "5       6.0   -0.250000  \n",
       "6       8.0   -0.083333  \n",
       "7      11.0    0.727273  \n",
       "8       3.0   -0.736842  "
      ]
     },
     "execution_count": 15,
     "metadata": {},
     "output_type": "execute_result"
    }
   ],
   "source": [
    "df_51 = df_51.reset_index()\n",
    "df_51['New_ID'] = df_51.index+1\n",
    "df_51['New_ID_tmp'] = df_51['New_ID']+1\n",
    "a_51 = df_51[['Номер троллейбуса','TimeSplit','Количество человек','New_ID']].merge(df_51[['Номер троллейбуса','TimeSplit','Количество человек','New_ID_tmp']], left_on = 'New_ID', right_on='New_ID_tmp', how='left')\n",
    "a_51 = a_51.fillna(0)\n",
    "a_51['TimeDiff'] = a_51['TimeSplit_x'] - a_51['TimeSplit_y']\n",
    "a_51['PeopleDiff'] = (a_51['Количество человек_x'] - a_51['Количество человек_y'])/a_51['Количество человек_y']\n",
    "a_51 = a_51.iloc[1:]\n",
    "print('Корреляция между временем ожидания автобуса и количеством пассажиров для 51 маршрута =', a_51['TimeDiff'].corr(a_51['PeopleDiff']))\n",
    "a_51"
   ]
  },
  {
   "cell_type": "markdown",
   "metadata": {},
   "source": [
    ">Высокая корреляция"
   ]
  },
  {
   "cell_type": "code",
   "execution_count": 16,
   "metadata": {},
   "outputs": [
    {
     "name": "stdout",
     "output_type": "stream",
     "text": [
      "Средняя дистанция между автобусами для 31 маршрута = 4.0\n",
      "Средняя дистанция между автобусами для 51 маршрута = 7.0\n",
      "Средняя дистанция между автобусами для 27 маршрута = 4.91666666667\n"
     ]
    }
   ],
   "source": [
    "print('Средняя дистанция между автобусами для 31 маршрута =', a_31.TimeDiff.mean())\n",
    "print('Средняя дистанция между автобусами для 51 маршрута =', a_51.TimeDiff.mean())\n",
    "print('Средняя дистанция между автобусами для 27 маршрута =', a_27.TimeDiff.mean())"
   ]
  },
  {
   "cell_type": "code",
   "execution_count": 17,
   "metadata": {},
   "outputs": [
    {
     "name": "stdout",
     "output_type": "stream",
     "text": [
      "Средний разброс между автобусами для 31 маршрута = 0.925820099773\n",
      "Средний разброс между автобусами для 51 маршрута = 2.26778683806\n",
      "Средний разброс между автобусами для 27 маршрута = 0.792961461099\n"
     ]
    }
   ],
   "source": [
    "print('Средний разброс между автобусами для 31 маршрута =', a_31.TimeDiff.std())\n",
    "print('Средний разброс между автобусами для 51 маршрута =', a_51.TimeDiff.std())\n",
    "print('Средний разброс между автобусами для 27 маршрута =', a_27.TimeDiff.std())"
   ]
  },
  {
   "cell_type": "markdown",
   "metadata": {},
   "source": [
    "# Выводы"
   ]
  },
  {
   "cell_type": "markdown",
   "metadata": {},
   "source": [
    "> Анализ показал, мы имеем следующую картину. В моменты пиковой нагрузки, в первые 10 минут наблюдений наблюдается большой пассажиропоток. Который почти в **3-4** раза выше чем в последние **20 минут**. Причем пиковая нагрузка на 27 маршрут приходится на последнюю двадцатиминутку. Недовольство скорее всего обусловлено тем, что в первые **20 минут** наблюдений частота появления автобусов такая же как и и в 20 минут, а пассажиропоток в первые **20** минут выше **в 4 раза**. Т.е. в моменты пиковой нагрузки, автобусы нужно отправлять банально чаще. \n",
    "\n",
    ">Помимо этого требуется увеличть частоту **51** маршрута, т.к. среднее время ожидания автобуса почти на **70-80%** выше, чем у маршрутов **27** и **31**."
   ]
  }
 ],
 "metadata": {
  "kernelspec": {
   "display_name": "Python 3",
   "language": "python",
   "name": "python3"
  },
  "language_info": {
   "codemirror_mode": {
    "name": "ipython",
    "version": 3
   },
   "file_extension": ".py",
   "mimetype": "text/x-python",
   "name": "python",
   "nbconvert_exporter": "python",
   "pygments_lexer": "ipython3",
   "version": "3.6.3"
  }
 },
 "nbformat": 4,
 "nbformat_minor": 2
}
