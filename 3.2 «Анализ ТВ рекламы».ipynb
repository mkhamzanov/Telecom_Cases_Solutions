{
 "cells": [
  {
   "cell_type": "markdown",
   "metadata": {},
   "source": [
    "# Задание 2 «Анализ ТВ рекламы»\n",
    ">Существует несколько каналов привлечения новых абонентов (регистраций в личный кабинет (далее – ЛК) my.beeline.kz). Они могут самостоятельно набирать в браузере необходимую ссылку и затем регистрироваться (organic), либо они могут привлекаться с помощью рекламных кампаний (adv, например, абоненту показывается баннер, ведущий на сайт регистрации, для данных абонентов выставляется отметка adv). Так же запускаются многочисленные ТВ кампании, в результате проведения которых, к сожалению, нет возможности выставить абоненту отметку, что он зарегистрировался в результате просмотра ТВ-рекламы.\n",
    "С 21.06.2015 по 11.07.2015 проводилась рекламная ТВ-кампания по привлечению новых абонентов в ЛК Beeline. Количество регистраций по дням находится в файле «Data for TV Analysis», колонка «Total».\n",
    "Динамика количества регистраций абонентов, которые пришли самостоятельно расположены в колонке “Organic”, по рекламным каналам – в колонке “Adv”.\n",
    "Известно, что среднестатистический абонент приносит компании 10 долларов за всю свою жизнь.\n",
    "\n",
    ">Так же известно, что компания тратит на привлечение абонента по рекламным каналам 1долларов.\n",
    "Необходимо посчитать потенциальную прибыль от рекламной кампании, если затраты на ее проведение составили 100 000 долларов\n"
   ]
  },
  {
   "cell_type": "code",
   "execution_count": 15,
   "metadata": {},
   "outputs": [],
   "source": [
    "import pandas as pd\n",
    "import pandas as pd\n",
    "from pandas import  to_datetime\n",
    "import matplotlib.pyplot as plt\n",
    "import numpy as np\n",
    "from matplotlib import rcParams\n",
    "import seaborn as sns\n",
    "%matplotlib inline"
   ]
  },
  {
   "cell_type": "code",
   "execution_count": 17,
   "metadata": {},
   "outputs": [
    {
     "data": {
      "text/html": [
       "<div>\n",
       "<style scoped>\n",
       "    .dataframe tbody tr th:only-of-type {\n",
       "        vertical-align: middle;\n",
       "    }\n",
       "\n",
       "    .dataframe tbody tr th {\n",
       "        vertical-align: top;\n",
       "    }\n",
       "\n",
       "    .dataframe thead th {\n",
       "        text-align: right;\n",
       "    }\n",
       "</style>\n",
       "<table border=\"1\" class=\"dataframe\">\n",
       "  <thead>\n",
       "    <tr style=\"text-align: right;\">\n",
       "      <th></th>\n",
       "      <th>Unnamed: 0</th>\n",
       "      <th>Organic</th>\n",
       "      <th>Adv</th>\n",
       "      <th>Total</th>\n",
       "      <th>Time</th>\n",
       "    </tr>\n",
       "  </thead>\n",
       "  <tbody>\n",
       "    <tr>\n",
       "      <th>0</th>\n",
       "      <td>4/1/2015</td>\n",
       "      <td>5032</td>\n",
       "      <td>504</td>\n",
       "      <td>5536</td>\n",
       "      <td>2015-04-01</td>\n",
       "    </tr>\n",
       "    <tr>\n",
       "      <th>1</th>\n",
       "      <td>4/2/2015</td>\n",
       "      <td>5252</td>\n",
       "      <td>563</td>\n",
       "      <td>5815</td>\n",
       "      <td>2015-04-02</td>\n",
       "    </tr>\n",
       "    <tr>\n",
       "      <th>2</th>\n",
       "      <td>4/3/2015</td>\n",
       "      <td>5799</td>\n",
       "      <td>573</td>\n",
       "      <td>6372</td>\n",
       "      <td>2015-04-03</td>\n",
       "    </tr>\n",
       "    <tr>\n",
       "      <th>3</th>\n",
       "      <td>4/4/2015</td>\n",
       "      <td>5968</td>\n",
       "      <td>620</td>\n",
       "      <td>6588</td>\n",
       "      <td>2015-04-04</td>\n",
       "    </tr>\n",
       "    <tr>\n",
       "      <th>4</th>\n",
       "      <td>4/5/2015</td>\n",
       "      <td>5637</td>\n",
       "      <td>577</td>\n",
       "      <td>6214</td>\n",
       "      <td>2015-04-05</td>\n",
       "    </tr>\n",
       "  </tbody>\n",
       "</table>\n",
       "</div>"
      ],
      "text/plain": [
       "  Unnamed: 0  Organic   Adv  Total       Time\n",
       "0   4/1/2015      5032  504   5536 2015-04-01\n",
       "1   4/2/2015      5252  563   5815 2015-04-02\n",
       "2   4/3/2015      5799  573   6372 2015-04-03\n",
       "3   4/4/2015      5968  620   6588 2015-04-04\n",
       "4   4/5/2015      5637  577   6214 2015-04-05"
      ]
     },
     "execution_count": 17,
     "metadata": {},
     "output_type": "execute_result"
    }
   ],
   "source": [
    "df = pd.read_csv('Data for TV Analysis.csv')\n",
    "df.head()\n",
    "df['Time'] =  pd.to_datetime(df['Unnamed: 0'], format='%m/%d/%Y')\n",
    "#df\n",
    "df.head()"
   ]
  },
  {
   "cell_type": "markdown",
   "metadata": {},
   "source": [
    "# Общая прогнозируемая прибыль от привлеченных клиентов по рекламным кампаниям"
   ]
  },
  {
   "cell_type": "code",
   "execution_count": 24,
   "metadata": {},
   "outputs": [
    {
     "data": {
      "text/plain": [
       "1058190"
      ]
     },
     "execution_count": 24,
     "metadata": {},
     "output_type": "execute_result"
    }
   ],
   "source": [
    "a = df.Adv.sum()*10\n",
    "a"
   ]
  },
  {
   "cell_type": "markdown",
   "metadata": {},
   "source": [
    "# Затраты на рекламную кампанию + затраты на привлечение каждого из абонетов при помощи рекламной кампании"
   ]
  },
  {
   "cell_type": "code",
   "execution_count": 25,
   "metadata": {},
   "outputs": [
    {
     "data": {
      "text/plain": [
       "205819"
      ]
     },
     "execution_count": 25,
     "metadata": {},
     "output_type": "execute_result"
    }
   ],
   "source": [
    "b = 100000 + df.Adv.sum()*1\n",
    "b"
   ]
  },
  {
   "cell_type": "markdown",
   "metadata": {},
   "source": [
    "# Прогнозируемая прибыль = a-b "
   ]
  },
  {
   "cell_type": "code",
   "execution_count": 23,
   "metadata": {},
   "outputs": [
    {
     "data": {
      "text/plain": [
       "852371"
      ]
     },
     "execution_count": 23,
     "metadata": {},
     "output_type": "execute_result"
    }
   ],
   "source": [
    "a - b"
   ]
  }
 ],
 "metadata": {
  "kernelspec": {
   "display_name": "Python 3",
   "language": "python",
   "name": "python3"
  },
  "language_info": {
   "codemirror_mode": {
    "name": "ipython",
    "version": 3
   },
   "file_extension": ".py",
   "mimetype": "text/x-python",
   "name": "python",
   "nbconvert_exporter": "python",
   "pygments_lexer": "ipython3",
   "version": "3.6.3"
  }
 },
 "nbformat": 4,
 "nbformat_minor": 2
}
